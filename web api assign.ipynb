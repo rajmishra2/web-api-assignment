{
 "cells": [
  {
   "cell_type": "markdown",
   "id": "74ec1447-fd9a-49aa-a8c2-8c837786f8b5",
   "metadata": {},
   "source": [
    "Q1. What is an API? Give an example, where an API is used in real life."
   ]
  },
  {
   "cell_type": "markdown",
   "id": "f89efea6-e0c7-4005-aa1d-8120f0bb45fa",
   "metadata": {},
   "source": [
    "APIs(Application programming interface) are used by web applications to link functionality and data on the back end with the user-facing front end.\n",
    "For example, maps API allows map information integration via websites, Android,iOS, etc"
   ]
  },
  {
   "cell_type": "markdown",
   "id": "b4020f51-11dd-4dba-9e54-77f5294576fa",
   "metadata": {},
   "source": [
    "Q2. Give advantages and disadvantages of using API"
   ]
  },
  {
   "cell_type": "markdown",
   "id": "49d8b6d7-a271-4096-8dcc-97733fd4ca81",
   "metadata": {},
   "source": [
    "The major benefit of using an API is accessing and consuming data and services from thousands of independent sources without developing own specialized application\n",
    "\n",
    " security concerns, complexity, compatibility issues, dependency on third-party developers, and governance and management issues.\n"
   ]
  },
  {
   "cell_type": "markdown",
   "id": "15296306-1acd-487f-9f38-b036e57de6c0",
   "metadata": {},
   "source": [
    "Q3. What is a Web API? Differentiate between API and Web API."
   ]
  },
  {
   "cell_type": "markdown",
   "id": "400cd707-4fbd-4e6f-867a-aaffbcd82eb1",
   "metadata": {},
   "source": [
    "A Web API is an application programming interface for the Web. \n",
    "API is an interface that exposes an application's data to outside software, whereas web applications are one type of API with stricter requirements. These requirements include network communication, SOAP as the primary protocol, and less accessibility for the public"
   ]
  },
  {
   "cell_type": "markdown",
   "id": "b17e98d6-5920-493b-b132-259bb78c310e",
   "metadata": {},
   "source": [
    "Q.4 Explain REST and SOAP Architecture. Mention shortcomings of SOAP.\n",
    "\n",
    " The SOAP approach is highly structured and uses XML data format. REST is more flexible and allows applications to exchange data in multiple formats.\n",
    "  SOAP uses XML format that must be parsed to be read. It defines many standards that must be followed while developing the SOAP applications. So it is slow and consumes more bandwidth and resource.\n",
    " "
   ]
  },
  {
   "cell_type": "markdown",
   "id": "5cf3dbf9-95c6-44f6-a471-2fcf74e6cf20",
   "metadata": {},
   "source": [
    "Q5. Differentiate between REST and SOAP.\n",
    "\n",
    " SOAP uses a service interface to do business logic on server while REST uses URIs. While SOAP APIs are designed after the functions that the API exposes, REST APIs are designed after the data"
   ]
  }
 ],
 "metadata": {
  "kernelspec": {
   "display_name": "Python 3 (ipykernel)",
   "language": "python",
   "name": "python3"
  },
  "language_info": {
   "codemirror_mode": {
    "name": "ipython",
    "version": 3
   },
   "file_extension": ".py",
   "mimetype": "text/x-python",
   "name": "python",
   "nbconvert_exporter": "python",
   "pygments_lexer": "ipython3",
   "version": "3.10.8"
  }
 },
 "nbformat": 4,
 "nbformat_minor": 5
}
